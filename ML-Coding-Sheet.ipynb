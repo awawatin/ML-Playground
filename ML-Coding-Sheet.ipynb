{
 "cells": [
  {
   "cell_type": "markdown",
   "metadata": {},
   "source": [
    "(1.1) K-Nearest Neighbor Implementation using Library"
   ]
  },
  {
   "cell_type": "code",
   "execution_count": null,
   "metadata": {},
   "outputs": [],
   "source": [
    "from sklearn.neighbors import KNeighborsClassifier\n",
    "import matplotlib.pyplot as plt\n",
    "def KNN_implementation():\n",
    "    x = [4, 5, 10, 4, 3, 11, 14 , 8, 10, 12]\n",
    "    y = [21, 19, 24, 17, 16, 25, 24, 22, 21, 21]\n",
    "    classes = [0, 0, 1, 0, 0, 1, 1, 0, 1, 1]\n",
    "    \n",
    "    # plt.scatter(x, y, c=classes)\n",
    "    # plt.show()\n",
    "\n",
    "    sample_data  = list(zip(x,y))\n",
    "    knn = KNeighborsClassifier(n_neighbors=5)\n",
    "    knn.fit(sample_data, classes)\n",
    "\n",
    "    new_data = [(8,21)]\n",
    "    prediction = knn.predict(new_data)\n",
    "    print(prediction)\n",
    "\n",
    "    plt.scatter(x + [new_data[0][0]], y + [new_data[0][1]], c=classes + [prediction[0]])\n",
    "\n",
    "KNN_implementation()"
   ]
  },
  {
   "cell_type": "markdown",
   "metadata": {},
   "source": [
    "(1.2) K-NN Implementation from Scratch"
   ]
  },
  {
   "cell_type": "code",
   "execution_count": 34,
   "metadata": {},
   "outputs": [
    {
     "name": "stdout",
     "output_type": "stream",
     "text": [
      "[7 2 8]\n",
      "[6 9 5]\n",
      "[1 1]\n"
     ]
    }
   ],
   "source": [
    "import numpy as np\n",
    "from sklearn.metrics import DistanceMetric\n",
    "\n",
    "# @ Creating a KNN class from scratch requires the following steps: initilization, fit, distance metric selection, prediction\n",
    "class my_KNN:\n",
    "    def __init__(self, k=3):\n",
    "        # @ Store the k value as given\n",
    "        self.k = k\n",
    "\n",
    "    def fit(self, X, Y):\n",
    "        self.X_train =  np.array(X)\n",
    "        self.y_train = np.array(Y)\n",
    "        \n",
    "    def distance_metric(self, x1, x2):\n",
    "        # @ Selecting Euclidean as a distance metric\n",
    "        return np.sqrt(np.sum((x1-x2)**2))\n",
    "        # self.metric.pairwise(X,Y)\n",
    "        # OR alternatively\n",
    "        # self.metric = DistanceMetric.get_metric(\"euclidean\")\n",
    "    def predict(self, X):\n",
    "        y_pred = [self._predict(x) for x in X]\n",
    "        return np.array(y_pred)\n",
    "    \n",
    "    def _predict(self,new_X):\n",
    "        distances = [self.distance_metric(new_X, x_train) for x_train in self.X_train]\n",
    "        k_ids = np.argsort(distances)[:self.k]\n",
    "        # print(k_ids)\n",
    "        k_nearest = [self.y_train[i] for i in k_ids]     \n",
    "        most_common = np.bincount(k_nearest).argmax()\n",
    "        return most_common   \n",
    "    \n",
    "X = [[4], [5], [10], [4], [3], [11], [14], [8], [10], [12]]  # Features (X)\n",
    "Y = [21, 19, 24, 17, 16, 25, 24, 22, 21, 21]  # These are not used in classification, but useful for context\n",
    "classes = [0, 0, 1, 0, 0, 1, 1, 0, 1, 1]  # Target classes (to predict)\n",
    "knn = my_KNN(k=3)\n",
    "knn.fit(X,classes)\n",
    "new_data = np.array([[8], [90]])\n",
    "prediction = knn.predict(new_data)\n",
    "\n",
    "print(prediction)"
   ]
  },
  {
   "cell_type": "markdown",
   "metadata": {},
   "source": [
    "(2) K-Means"
   ]
  },
  {
   "cell_type": "code",
   "execution_count": null,
   "metadata": {},
   "outputs": [],
   "source": []
  }
 ],
 "metadata": {
  "kernelspec": {
   "display_name": "base",
   "language": "python",
   "name": "python3"
  },
  "language_info": {
   "codemirror_mode": {
    "name": "ipython",
    "version": 3
   },
   "file_extension": ".py",
   "mimetype": "text/x-python",
   "name": "python",
   "nbconvert_exporter": "python",
   "pygments_lexer": "ipython3",
   "version": "3.11.7"
  }
 },
 "nbformat": 4,
 "nbformat_minor": 2
}
