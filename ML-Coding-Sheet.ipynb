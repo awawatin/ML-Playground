{
 "cells": [
  {
   "cell_type": "markdown",
   "metadata": {},
   "source": [
    "(1.1) K-Nearest Neighbor Implementation using Library"
   ]
  },
  {
   "cell_type": "code",
   "execution_count": null,
   "metadata": {},
   "outputs": [],
   "source": [
    "from sklearn.neighbors import KNeighborsClassifier\n",
    "import matplotlib.pyplot as plt\n",
    "def KNN_implementation():\n",
    "    x = [4, 5, 10, 4, 3, 11, 14 , 8, 10, 12]\n",
    "    y = [21, 19, 24, 17, 16, 25, 24, 22, 21, 21]\n",
    "    classes = [0, 0, 1, 0, 0, 1, 1, 0, 1, 1]\n",
    "    \n",
    "    # plt.scatter(x, y, c=classes)\n",
    "    # plt.show()\n",
    "\n",
    "    sample_data  = list(zip(x,y))\n",
    "    knn = KNeighborsClassifier(n_neighbors=5)\n",
    "    knn.fit(sample_data, classes)\n",
    "\n",
    "    new_data = [(8,21)]\n",
    "    prediction = knn.predict(new_data)\n",
    "    print(prediction)\n",
    "\n",
    "    plt.scatter(x + [new_data[0][0]], y + [new_data[0][1]], c=classes + [prediction[0]])\n",
    "\n",
    "KNN_implementation()"
   ]
  },
  {
   "cell_type": "markdown",
   "metadata": {},
   "source": [
    "(1.2) K-NN Implementation from Scratch"
   ]
  },
  {
   "cell_type": "code",
   "execution_count": 34,
   "metadata": {},
   "outputs": [
    {
     "name": "stdout",
     "output_type": "stream",
     "text": [
      "[7 2 8]\n",
      "[6 9 5]\n",
      "[1 1]\n"
     ]
    }
   ],
   "source": [
    "import numpy as np\n",
    "from sklearn.metrics import DistanceMetric\n",
    "\n",
    "# @ Creating a KNN class from scratch requires the following steps: initilization, fit, distance metric selection, prediction\n",
    "class my_KNN:\n",
    "    def __init__(self, k=3):\n",
    "        # @ Store the k value as given\n",
    "        self.k = k\n",
    "\n",
    "    def fit(self, X, Y):\n",
    "        self.X_train =  np.array(X)\n",
    "        self.y_train = np.array(Y)\n",
    "        \n",
    "    def distance_metric(self, x1, x2):\n",
    "        # @ Selecting Euclidean as a distance metric\n",
    "        return np.sqrt(np.sum((x1-x2)**2))\n",
    "        # self.metric.pairwise(X,Y)\n",
    "        # OR alternatively\n",
    "        # self.metric = DistanceMetric.get_metric(\"euclidean\")\n",
    "    def predict(self, X):\n",
    "        y_pred = [self._predict(x) for x in X]\n",
    "        return np.array(y_pred)\n",
    "    \n",
    "    def _predict(self,new_X):\n",
    "        distances = [self.distance_metric(new_X, x_train) for x_train in self.X_train]\n",
    "        k_ids = np.argsort(distances)[:self.k]\n",
    "        # print(k_ids)\n",
    "        k_nearest = [self.y_train[i] for i in k_ids]     \n",
    "        most_common = np.bincount(k_nearest).argmax()\n",
    "        return most_common   \n",
    "    \n",
    "X = [[4], [5], [10], [4], [3], [11], [14], [8], [10], [12]]  # Features (X)\n",
    "Y = [21, 19, 24, 17, 16, 25, 24, 22, 21, 21]  # These are not used in classification, but useful for context\n",
    "classes = [0, 0, 1, 0, 0, 1, 1, 0, 1, 1]  # Target classes (to predict)\n",
    "knn = my_KNN(k=3)\n",
    "knn.fit(X,classes)\n",
    "new_data = np.array([[8], [90]])\n",
    "prediction = knn.predict(new_data)\n",
    "\n",
    "print(prediction)"
   ]
  },
  {
   "cell_type": "markdown",
   "metadata": {},
   "source": [
    "(2) K-Means"
   ]
  },
  {
   "cell_type": "code",
   "execution_count": 103,
   "metadata": {},
   "outputs": [
    {
     "name": "stdout",
     "output_type": "stream",
     "text": [
      "Cluster Assignments: [2 0 3 1 0 1 3 1 3 3 3 1 3 3 2 3 0 1 3 3 3 3 1 2 3 0 0 1 1 3 3 3 2 3 0 3 2\n",
      " 1 2 1 1 3 2 1 3 3 2 1 2 1 1 0 2 3 2 1 2 3 1 3 0 1 1 2 0 1 1 2 0 3 1 2 0 3\n",
      " 3 2 0 1 3 1 3 3 2 3 1 2 2 3 1 3 0 3 2 3 3 2 0 3 2 0 1 3 1 3 3 3 3 3 1 0 1\n",
      " 3 3 3 3 1 0 1 0 1 1 1 3 2 2 2 0 3 2 2 3 3 3 3 3 1 1 2 3 2 3 3 2 3 1 1 1 3\n",
      " 1 3 3 2 1 0 3 1 1 2 2 3 3 2 2 2 3 2 1 3 3 3 3 3 1 3 1 1 1 3 1 1 2 3 0 1 1\n",
      " 0 1 3 1 1 0 2 1 0 1 1 1 1 3 2 3 3 1 1 3 1 0 2 1 3 3 0 1 1 2 2 0 2 3 2 2 1\n",
      " 2 0 3 1 0 2 1 3 3 0 3 2 1 1 0 1 2 2 0 1 1 3 2 1 1 1 2 1 2 1 2 1 1 2 1 3 0\n",
      " 3 3 3 2 3 1 1 0 1 1 3 3 1 1 1 0 2 0 3 3 3 1 1 1 1 2 1 0 1 1 2 3 1 1 3 2 3\n",
      " 1 3 0 0]\n",
      "Final Centroids: [[-7.53170738 -6.191772  ]\n",
      " [ 4.74710337  2.01059427]\n",
      " [-6.46968182 -7.49048044]\n",
      " [-2.63323268  9.04356978]]\n"
     ]
    }
   ],
   "source": [
    "import numpy as np\n",
    "import random\n",
    "from sklearn.datasets import make_blobs\n",
    "# Iterate through points:\n",
    "#   Assign point to mean\n",
    "# Update mean by shifting it to the average of the items categorized in that cluster so far.\n",
    "\n",
    "class KMeans:\n",
    "    def __init__(self, num_cluster, max_iteration):\n",
    "        self.k = num_cluster\n",
    "        self.max_iter = max_iteration\n",
    "    \n",
    "    def fit(self,X):\n",
    "        # Random selection of centroids\n",
    "        self.centroids = X[np.random.choice(X.shape[0], self.k, replace = False)]\n",
    "\n",
    "        for _ in range(self.max_iter):\n",
    "            labels = self.assign_labels(X)\n",
    "\n",
    "            new_centroid = self.update_centroid(X, labels)\n",
    "\n",
    "            if np.all(self.centroids == new_centroid):\n",
    "                break\n",
    "\n",
    "            self.centroids = new_centroid\n",
    "\n",
    "    def assign_labels(self,X):\n",
    "        # distances = np.linalg.norm(X[:, np.newaxis] - self.centroids, axis=2)\n",
    "        distances = np.sqrt(np.sum((self.centroids - X[:, np.newaxis])**2, axis = 2))\n",
    "        return np.argmin(distances, axis=1)\n",
    "    \n",
    "    def update_centroid(self, X, labels):\n",
    "        new_centroids = np.array([X[labels==i].mean(axis=0) for i in range(self.k)])\n",
    "        return new_centroids\n",
    "    \n",
    "# make blobs generates fake data\n",
    "X, _ = make_blobs(n_samples=300, centers=3, random_state=42)\n",
    "kmeans = KMeans(num_cluster=4, max_iteration = 20)\n",
    "\n",
    "kmeans.fit(X)\n",
    "\n",
    "labels = kmeans.assign_labels(X)\n",
    "print(\"Cluster Assignments:\", labels)\n",
    "print(\"Final Centroids:\", kmeans.centroids)\n",
    "\n",
    "# import plotly.express as px\n",
    "# fig = px.scatter(X[:, 0], X[:, 1], color=labels)\n",
    "# fig.show() # visualize"
   ]
  },
  {
   "cell_type": "markdown",
   "metadata": {},
   "source": [
    "(3) SVMs Implementation"
   ]
  },
  {
   "cell_type": "code",
   "execution_count": null,
   "metadata": {},
   "outputs": [],
   "source": []
  },
  {
   "cell_type": "code",
   "execution_count": null,
   "metadata": {},
   "outputs": [],
   "source": []
  },
  {
   "cell_type": "code",
   "execution_count": null,
   "metadata": {},
   "outputs": [],
   "source": []
  }
 ],
 "metadata": {
  "kernelspec": {
   "display_name": "base",
   "language": "python",
   "name": "python3"
  },
  "language_info": {
   "codemirror_mode": {
    "name": "ipython",
    "version": 3
   },
   "file_extension": ".py",
   "mimetype": "text/x-python",
   "name": "python",
   "nbconvert_exporter": "python",
   "pygments_lexer": "ipython3",
   "version": "3.11.7"
  }
 },
 "nbformat": 4,
 "nbformat_minor": 2
}
